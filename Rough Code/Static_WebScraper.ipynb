{
 "cells": [
  {
   "cell_type": "code",
   "execution_count": 1,
   "id": "3abfeae7-f2df-45ca-8f3f-9a148cddc1a1",
   "metadata": {},
   "outputs": [],
   "source": [
    "import requests\n",
    "from bs4 import BeautifulSoup\n",
    "\n",
    "URL = \"https://ca.finance.yahoo.com/news/apple-heads-largest-q3-revenue-195336996.html\"\n",
    "page = requests.get(URL)\n",
    "\n",
    "soup = BeautifulSoup(page.content, \"html.parser\")"
   ]
  },
  {
   "cell_type": "code",
   "execution_count": 2,
   "id": "0473490a-43da-4cd2-a5dd-5788199ed9cc",
   "metadata": {},
   "outputs": [],
   "source": [
    "if page.status_code == 200:\n",
    "    html_content = page.text\n",
    "    soup = BeautifulSoup(html_content, 'html.parser')\n",
    "else:\n",
    "    print(\"Failed to retrieve the article. Status code:\", page.status_code)\n",
    "    exit()"
   ]
  },
  {
   "cell_type": "code",
   "execution_count": 3,
   "id": "0dd6efd3-c332-4a75-a034-fdac58a42c37",
   "metadata": {},
   "outputs": [],
   "source": [
    "# Assuming the article content is contained within <div> tags with class \"caas-body\"\n",
    "article_content = soup.find('div', class_='caas-body')\n",
    "if article_content:\n",
    "    article_text = article_content.get_text()\n",
    "else:\n",
    "    print(\"Could not find the article content.\")\n",
    "    exit()"
   ]
  },
  {
   "cell_type": "code",
   "execution_count": 4,
   "id": "3a9f0167-3786-41d7-8d71-8305c48ff17d",
   "metadata": {},
   "outputs": [
    {
     "data": {
      "text/plain": [
       "[<p>By Yuvraj Malik</p>,\n",
       " <p>(Reuters) -Apple is likely to report a dip in iPhone sales in the April-June quarter as shoppers held out for a new model in a slow economy, making it important for the company to detail how it is using artificial intelligence to augment growth, analysts said.</p>,\n",
       " <p>The world's most valuable firm will wrap up Big Tech earnings on Thursday, with a likely 1.6% drop in total quarterly revenue, according to Refinitiv - its steepest drop in third-quarter revenue since 2016.</p>,\n",
       " <p>IPhone sales likely fell more than 2% in the period, according to 24 analysts polled by Visible Alpha, compared with a near 3% increase a year earlier and a 1.5% rise in the quarter ended March.</p>,\n",
       " <p>The quarterly report could mark a break from an upbeat earnings season for the likes of Meta Platforms, Alphabet and Microsoft that have shown resilience in their cloud businesses and an uptick in digital ad sales.</p>,\n",
       " <p>\"Apple is not immune to general macroeconomic trends and will continue to set the pace (for the smartphone industry) for quite some time,\" said Bob O'Donnell, founder of TECHnalysis Research.</p>,\n",
       " <p>With details about the new iPhone 15 expected next month - which could sport the more universally accepted USB-C port on some models - iPhone sales could get a small nudge in the July-September quarter, said analysts, who predicted a mixed bag of results for the period.</p>,\n",
       " <p>Apple traditionally does not provide quarterly outlook, but analysts expect the company may elaborate how it is using AI to improve its upcoming products.</p>,\n",
       " <p>The company has so far avoided buzzwords like AI at its events, in a contrast with tech giants including Alphabet and Microsoft. Last month, Bloomberg News reported Apple has quietly built its own framework to create large language models known as \"Ajax\".</p>,\n",
       " <p>\"We expect Apple's updated comments on its AI aspirations to be a focus,\" analysts at Well Fargo wrote in a research note, adding that any commentary around the technology could boost the stock.</p>,\n",
       " <div class=\"caas-readmore caas-readmore-collapse\"><button aria-label=\"\" class=\"link caas-button collapse-button\" data-ylk=\"elm:readmore;slk:Story continues\" title=\"\">Story continues</button></div>,\n",
       " <button aria-label=\"\" class=\"link caas-button collapse-button\" data-ylk=\"elm:readmore;slk:Story continues\" title=\"\">Story continues</button>,\n",
       " <p>Apple's shares have gained more than 50% so far this year, compared with a nearly 37% increase in the tech-heavy Nasdaq Composite.</p>,\n",
       " <p>IPHONE SLOWDOWN</p>,\n",
       " <p>Much of the weakness in iPhone sales is expected to come from the Americas, where revenue is set to fall 6%, analysts said. Sales from China - Apple's third-largest market - are expected to be flat due to an uneven economic recovery, though the company has fared better than Android rivals in the country.</p>,\n",
       " <p>Overall smartphone shipments to China declined 2.1% in the second quarter, according to market research firm International Data Corp.</p>,\n",
       " <p>\"Most investors feel a soft China could pose a risk to the numbers and further commentary, but Apple's position in China is on a solid footing and the company is likely to see only a small, if any, decline in iPhone sales,\" Piper Sandler analysts said.</p>,\n",
       " <p>\"If there is any sales weakness from China, it is likely to be easily offset by strong sales momentum in India,\" they added.</p>,\n",
       " <p>Mac and iPad sales are expected to fall by 10.6% and 11.2%, respectively, according to Refinitiv data.</p>,\n",
       " <p>But the services business - home to Apple's App Store and audio and video streaming services - could be a bright spot thanks to an uptick in the ad market, some analysts said.</p>,\n",
       " <p>The business, which accounts for roughly a quarter of Apple's total revenue, is expected to grow 5.7% as it also benefits from price increases for iCloud subscriptions, though the pace is broadly similar to that in the preceding three quarters.</p>,\n",
       " <p>(Reporting by Yuvraj Malik in Bengaluru; Editing by Sayantani Ghosh and Maju Samuel)</p>]"
      ]
     },
     "execution_count": 4,
     "metadata": {},
     "output_type": "execute_result"
    }
   ],
   "source": [
    "article_content()"
   ]
  },
  {
   "cell_type": "code",
   "execution_count": 5,
   "id": "082c4e42-9b08-4231-840d-7f3c7cc232e9",
   "metadata": {},
   "outputs": [
    {
     "name": "stdout",
     "output_type": "stream",
     "text": [
      "Article has been successfully saved to output_file.csv\n"
     ]
    }
   ],
   "source": [
    "import csv\n",
    "\n",
    "# Replace 'output_file.csv' with the desired name for your CSV file\n",
    "output_file = 'output_file.csv'\n",
    "\n",
    "with open(output_file, 'w', encoding='utf-8', newline='') as csvfile:\n",
    "    writer = csv.writer(csvfile)\n",
    "    writer.writerow(['Article body'])\n",
    "    writer.writerow([article_text])\n",
    "\n",
    "print(\"Article has been successfully saved to\", output_file)"
   ]
  },
  {
   "cell_type": "code",
   "execution_count": null,
   "id": "f003a07d-da6b-4d7a-aaa6-b0daf3233761",
   "metadata": {},
   "outputs": [],
   "source": []
  }
 ],
 "metadata": {
  "kernelspec": {
   "display_name": "Python 3 (ipykernel)",
   "language": "python",
   "name": "python3"
  },
  "language_info": {
   "codemirror_mode": {
    "name": "ipython",
    "version": 3
   },
   "file_extension": ".py",
   "mimetype": "text/x-python",
   "name": "python",
   "nbconvert_exporter": "python",
   "pygments_lexer": "ipython3",
   "version": "3.7.13"
  }
 },
 "nbformat": 4,
 "nbformat_minor": 5
}
